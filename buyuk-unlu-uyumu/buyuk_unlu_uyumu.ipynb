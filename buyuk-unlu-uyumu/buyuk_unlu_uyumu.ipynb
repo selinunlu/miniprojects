{
 "cells": [
  {
   "cell_type": "markdown",
   "metadata": {},
   "source": [
    "# 1. Büyük Ünlü Uyumu"
   ]
  },
  {
   "cell_type": "markdown",
   "metadata": {},
   "source": [
    "* Parametre olarak verilen sözcüğün büyük ünlü uyumuna uyup uymadığını dönen bir işlev yazınız."
   ]
  },
  {
   "cell_type": "code",
   "execution_count": 1,
   "metadata": {},
   "outputs": [],
   "source": [
    "def buyuk_unlu_uyumu(sozcuk):\n",
    "    \n",
    "    kalin_unluler = [\"a\", \"ı\", \"o\", \"u\"]\n",
    "    ince_unluler = [\"e\", \"i\", \"ö\", \"ü\"]\n",
    "    \n",
    "    harfler =  list(sozcuk)\n",
    "    \n",
    "    kalin_unlu_sayisi = 0\n",
    "    ince_unlu_sayisi = 0\n",
    "    \n",
    "    for i in harfler:\n",
    "        if i in kalin_unluler:\n",
    "            kalin_unlu_sayisi += 1\n",
    "        elif i in ince_unluler:\n",
    "            ince_unlu_sayisi += 1\n",
    "            \n",
    "    if ((ince_unlu_sayisi == 0) or (kalin_unlu_sayisi == 0)):\n",
    "        return (\"{}, büyük ünlü uyumuna uyuyor.\".format(sozcuk))\n",
    "    else:\n",
    "        return (\"{}, büyük ünlü uyumuna uymuyor.\".format(sozcuk))         "
   ]
  },
  {
   "cell_type": "code",
   "execution_count": 2,
   "metadata": {},
   "outputs": [
    {
     "name": "stdout",
     "output_type": "stream",
     "text": [
      "Kontrol etmek istediğiniz sözcüğü yazınız: selin\n"
     ]
    },
    {
     "data": {
      "text/plain": [
       "'selin, büyük ünlü uyumuna uyuyor.'"
      ]
     },
     "execution_count": 2,
     "metadata": {},
     "output_type": "execute_result"
    }
   ],
   "source": [
    "sozcuk = input(\"Kontrol etmek istediğiniz sözcüğü yazınız: \")\n",
    "buyuk_unlu_uyumu(sozcuk)"
   ]
  }
 ],
 "metadata": {
  "kernelspec": {
   "display_name": "Python 3",
   "language": "python",
   "name": "python3"
  },
  "language_info": {
   "codemirror_mode": {
    "name": "ipython",
    "version": 3
   },
   "file_extension": ".py",
   "mimetype": "text/x-python",
   "name": "python",
   "nbconvert_exporter": "python",
   "pygments_lexer": "ipython3",
   "version": "3.8.5"
  }
 },
 "nbformat": 4,
 "nbformat_minor": 4
}
